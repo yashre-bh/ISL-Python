{
 "cells": [
  {
   "cell_type": "markdown",
   "metadata": {},
   "source": [
    "# Caravan"
   ]
  },
  {
   "cell_type": "markdown",
   "metadata": {},
   "source": [
    "## KNN"
   ]
  },
  {
   "cell_type": "code",
   "execution_count": 17,
   "metadata": {},
   "outputs": [
    {
     "data": {
      "text/html": [
       "<div>\n",
       "<style scoped>\n",
       "    .dataframe tbody tr th:only-of-type {\n",
       "        vertical-align: middle;\n",
       "    }\n",
       "\n",
       "    .dataframe tbody tr th {\n",
       "        vertical-align: top;\n",
       "    }\n",
       "\n",
       "    .dataframe thead th {\n",
       "        text-align: right;\n",
       "    }\n",
       "</style>\n",
       "<table border=\"1\" class=\"dataframe\">\n",
       "  <thead>\n",
       "    <tr style=\"text-align: right;\">\n",
       "      <th></th>\n",
       "      <th>Unnamed: 0</th>\n",
       "      <th>MOSTYPE</th>\n",
       "      <th>MAANTHUI</th>\n",
       "      <th>MGEMOMV</th>\n",
       "      <th>MGEMLEEF</th>\n",
       "      <th>MOSHOOFD</th>\n",
       "      <th>MGODRK</th>\n",
       "      <th>MGODPR</th>\n",
       "      <th>MGODOV</th>\n",
       "      <th>MGODGE</th>\n",
       "      <th>...</th>\n",
       "      <th>APERSONG</th>\n",
       "      <th>AGEZONG</th>\n",
       "      <th>AWAOREG</th>\n",
       "      <th>ABRAND</th>\n",
       "      <th>AZEILPL</th>\n",
       "      <th>APLEZIER</th>\n",
       "      <th>AFIETS</th>\n",
       "      <th>AINBOED</th>\n",
       "      <th>ABYSTAND</th>\n",
       "      <th>Purchase</th>\n",
       "    </tr>\n",
       "  </thead>\n",
       "  <tbody>\n",
       "    <tr>\n",
       "      <th>0</th>\n",
       "      <td>1</td>\n",
       "      <td>33</td>\n",
       "      <td>1</td>\n",
       "      <td>3</td>\n",
       "      <td>2</td>\n",
       "      <td>8</td>\n",
       "      <td>0</td>\n",
       "      <td>5</td>\n",
       "      <td>1</td>\n",
       "      <td>3</td>\n",
       "      <td>...</td>\n",
       "      <td>0</td>\n",
       "      <td>0</td>\n",
       "      <td>0</td>\n",
       "      <td>1</td>\n",
       "      <td>0</td>\n",
       "      <td>0</td>\n",
       "      <td>0</td>\n",
       "      <td>0</td>\n",
       "      <td>0</td>\n",
       "      <td>0</td>\n",
       "    </tr>\n",
       "    <tr>\n",
       "      <th>1</th>\n",
       "      <td>2</td>\n",
       "      <td>37</td>\n",
       "      <td>1</td>\n",
       "      <td>2</td>\n",
       "      <td>2</td>\n",
       "      <td>8</td>\n",
       "      <td>1</td>\n",
       "      <td>4</td>\n",
       "      <td>1</td>\n",
       "      <td>4</td>\n",
       "      <td>...</td>\n",
       "      <td>0</td>\n",
       "      <td>0</td>\n",
       "      <td>0</td>\n",
       "      <td>1</td>\n",
       "      <td>0</td>\n",
       "      <td>0</td>\n",
       "      <td>0</td>\n",
       "      <td>0</td>\n",
       "      <td>0</td>\n",
       "      <td>0</td>\n",
       "    </tr>\n",
       "    <tr>\n",
       "      <th>2</th>\n",
       "      <td>3</td>\n",
       "      <td>37</td>\n",
       "      <td>1</td>\n",
       "      <td>2</td>\n",
       "      <td>2</td>\n",
       "      <td>8</td>\n",
       "      <td>0</td>\n",
       "      <td>4</td>\n",
       "      <td>2</td>\n",
       "      <td>4</td>\n",
       "      <td>...</td>\n",
       "      <td>0</td>\n",
       "      <td>0</td>\n",
       "      <td>0</td>\n",
       "      <td>1</td>\n",
       "      <td>0</td>\n",
       "      <td>0</td>\n",
       "      <td>0</td>\n",
       "      <td>0</td>\n",
       "      <td>0</td>\n",
       "      <td>0</td>\n",
       "    </tr>\n",
       "    <tr>\n",
       "      <th>3</th>\n",
       "      <td>4</td>\n",
       "      <td>9</td>\n",
       "      <td>1</td>\n",
       "      <td>3</td>\n",
       "      <td>3</td>\n",
       "      <td>3</td>\n",
       "      <td>2</td>\n",
       "      <td>3</td>\n",
       "      <td>2</td>\n",
       "      <td>4</td>\n",
       "      <td>...</td>\n",
       "      <td>0</td>\n",
       "      <td>0</td>\n",
       "      <td>0</td>\n",
       "      <td>1</td>\n",
       "      <td>0</td>\n",
       "      <td>0</td>\n",
       "      <td>0</td>\n",
       "      <td>0</td>\n",
       "      <td>0</td>\n",
       "      <td>0</td>\n",
       "    </tr>\n",
       "    <tr>\n",
       "      <th>4</th>\n",
       "      <td>5</td>\n",
       "      <td>40</td>\n",
       "      <td>1</td>\n",
       "      <td>4</td>\n",
       "      <td>2</td>\n",
       "      <td>10</td>\n",
       "      <td>1</td>\n",
       "      <td>4</td>\n",
       "      <td>1</td>\n",
       "      <td>4</td>\n",
       "      <td>...</td>\n",
       "      <td>0</td>\n",
       "      <td>0</td>\n",
       "      <td>0</td>\n",
       "      <td>1</td>\n",
       "      <td>0</td>\n",
       "      <td>0</td>\n",
       "      <td>0</td>\n",
       "      <td>0</td>\n",
       "      <td>0</td>\n",
       "      <td>0</td>\n",
       "    </tr>\n",
       "  </tbody>\n",
       "</table>\n",
       "<p>5 rows × 87 columns</p>\n",
       "</div>"
      ],
      "text/plain": [
       "   Unnamed: 0  MOSTYPE  MAANTHUI  MGEMOMV  MGEMLEEF  MOSHOOFD  MGODRK  MGODPR  \\\n",
       "0           1       33         1        3         2         8       0       5   \n",
       "1           2       37         1        2         2         8       1       4   \n",
       "2           3       37         1        2         2         8       0       4   \n",
       "3           4        9         1        3         3         3       2       3   \n",
       "4           5       40         1        4         2        10       1       4   \n",
       "\n",
       "   MGODOV  MGODGE  ...  APERSONG  AGEZONG  AWAOREG  ABRAND  AZEILPL  APLEZIER  \\\n",
       "0       1       3  ...         0        0        0       1        0         0   \n",
       "1       1       4  ...         0        0        0       1        0         0   \n",
       "2       2       4  ...         0        0        0       1        0         0   \n",
       "3       2       4  ...         0        0        0       1        0         0   \n",
       "4       1       4  ...         0        0        0       1        0         0   \n",
       "\n",
       "   AFIETS  AINBOED  ABYSTAND  Purchase  \n",
       "0       0        0         0         0  \n",
       "1       0        0         0         0  \n",
       "2       0        0         0         0  \n",
       "3       0        0         0         0  \n",
       "4       0        0         0         0  \n",
       "\n",
       "[5 rows x 87 columns]"
      ]
     },
     "execution_count": 17,
     "metadata": {},
     "output_type": "execute_result"
    }
   ],
   "source": [
    "import pandas as pd\n",
    "import numpy as np\n",
    "import seaborn as sns\n",
    "import matplotlib.pyplot as plt\n",
    "from sklearn.neighbors import KNeighborsClassifier\n",
    "data = pd.read_csv('https://raw.githubusercontent.com/yashre-bh/ISL-Python-datasets/main/Caravan.csv')\n",
    "data.head()"
   ]
  },
  {
   "cell_type": "code",
   "execution_count": 18,
   "metadata": {},
   "outputs": [
    {
     "data": {
      "text/plain": [
       "(5822, 87)"
      ]
     },
     "execution_count": 18,
     "metadata": {},
     "output_type": "execute_result"
    }
   ],
   "source": [
    "data.shape\n"
   ]
  },
  {
   "cell_type": "code",
   "execution_count": 19,
   "metadata": {},
   "outputs": [
    {
     "data": {
      "text/plain": [
       "Unnamed: 0    0\n",
       "MOSTYPE       0\n",
       "MAANTHUI      0\n",
       "MGEMOMV       0\n",
       "MGEMLEEF      0\n",
       "             ..\n",
       "APLEZIER      0\n",
       "AFIETS        0\n",
       "AINBOED       0\n",
       "ABYSTAND      0\n",
       "Purchase      0\n",
       "Length: 87, dtype: int64"
      ]
     },
     "execution_count": 19,
     "metadata": {},
     "output_type": "execute_result"
    }
   ],
   "source": [
    "data.isnull().sum()"
   ]
  },
  {
   "cell_type": "code",
   "execution_count": 20,
   "metadata": {},
   "outputs": [
    {
     "name": "stdout",
     "output_type": "stream",
     "text": [
      "<class 'pandas.core.frame.DataFrame'>\n",
      "RangeIndex: 5822 entries, 0 to 5821\n",
      "Data columns (total 87 columns):\n",
      " #   Column      Non-Null Count  Dtype\n",
      "---  ------      --------------  -----\n",
      " 0   Unnamed: 0  5822 non-null   int64\n",
      " 1   MOSTYPE     5822 non-null   int64\n",
      " 2   MAANTHUI    5822 non-null   int64\n",
      " 3   MGEMOMV     5822 non-null   int64\n",
      " 4   MGEMLEEF    5822 non-null   int64\n",
      " 5   MOSHOOFD    5822 non-null   int64\n",
      " 6   MGODRK      5822 non-null   int64\n",
      " 7   MGODPR      5822 non-null   int64\n",
      " 8   MGODOV      5822 non-null   int64\n",
      " 9   MGODGE      5822 non-null   int64\n",
      " 10  MRELGE      5822 non-null   int64\n",
      " 11  MRELSA      5822 non-null   int64\n",
      " 12  MRELOV      5822 non-null   int64\n",
      " 13  MFALLEEN    5822 non-null   int64\n",
      " 14  MFGEKIND    5822 non-null   int64\n",
      " 15  MFWEKIND    5822 non-null   int64\n",
      " 16  MOPLHOOG    5822 non-null   int64\n",
      " 17  MOPLMIDD    5822 non-null   int64\n",
      " 18  MOPLLAAG    5822 non-null   int64\n",
      " 19  MBERHOOG    5822 non-null   int64\n",
      " 20  MBERZELF    5822 non-null   int64\n",
      " 21  MBERBOER    5822 non-null   int64\n",
      " 22  MBERMIDD    5822 non-null   int64\n",
      " 23  MBERARBG    5822 non-null   int64\n",
      " 24  MBERARBO    5822 non-null   int64\n",
      " 25  MSKA        5822 non-null   int64\n",
      " 26  MSKB1       5822 non-null   int64\n",
      " 27  MSKB2       5822 non-null   int64\n",
      " 28  MSKC        5822 non-null   int64\n",
      " 29  MSKD        5822 non-null   int64\n",
      " 30  MHHUUR      5822 non-null   int64\n",
      " 31  MHKOOP      5822 non-null   int64\n",
      " 32  MAUT1       5822 non-null   int64\n",
      " 33  MAUT2       5822 non-null   int64\n",
      " 34  MAUT0       5822 non-null   int64\n",
      " 35  MZFONDS     5822 non-null   int64\n",
      " 36  MZPART      5822 non-null   int64\n",
      " 37  MINKM30     5822 non-null   int64\n",
      " 38  MINK3045    5822 non-null   int64\n",
      " 39  MINK4575    5822 non-null   int64\n",
      " 40  MINK7512    5822 non-null   int64\n",
      " 41  MINK123M    5822 non-null   int64\n",
      " 42  MINKGEM     5822 non-null   int64\n",
      " 43  MKOOPKLA    5822 non-null   int64\n",
      " 44  PWAPART     5822 non-null   int64\n",
      " 45  PWABEDR     5822 non-null   int64\n",
      " 46  PWALAND     5822 non-null   int64\n",
      " 47  PPERSAUT    5822 non-null   int64\n",
      " 48  PBESAUT     5822 non-null   int64\n",
      " 49  PMOTSCO     5822 non-null   int64\n",
      " 50  PVRAAUT     5822 non-null   int64\n",
      " 51  PAANHANG    5822 non-null   int64\n",
      " 52  PTRACTOR    5822 non-null   int64\n",
      " 53  PWERKT      5822 non-null   int64\n",
      " 54  PBROM       5822 non-null   int64\n",
      " 55  PLEVEN      5822 non-null   int64\n",
      " 56  PPERSONG    5822 non-null   int64\n",
      " 57  PGEZONG     5822 non-null   int64\n",
      " 58  PWAOREG     5822 non-null   int64\n",
      " 59  PBRAND      5822 non-null   int64\n",
      " 60  PZEILPL     5822 non-null   int64\n",
      " 61  PPLEZIER    5822 non-null   int64\n",
      " 62  PFIETS      5822 non-null   int64\n",
      " 63  PINBOED     5822 non-null   int64\n",
      " 64  PBYSTAND    5822 non-null   int64\n",
      " 65  AWAPART     5822 non-null   int64\n",
      " 66  AWABEDR     5822 non-null   int64\n",
      " 67  AWALAND     5822 non-null   int64\n",
      " 68  APERSAUT    5822 non-null   int64\n",
      " 69  ABESAUT     5822 non-null   int64\n",
      " 70  AMOTSCO     5822 non-null   int64\n",
      " 71  AVRAAUT     5822 non-null   int64\n",
      " 72  AAANHANG    5822 non-null   int64\n",
      " 73  ATRACTOR    5822 non-null   int64\n",
      " 74  AWERKT      5822 non-null   int64\n",
      " 75  ABROM       5822 non-null   int64\n",
      " 76  ALEVEN      5822 non-null   int64\n",
      " 77  APERSONG    5822 non-null   int64\n",
      " 78  AGEZONG     5822 non-null   int64\n",
      " 79  AWAOREG     5822 non-null   int64\n",
      " 80  ABRAND      5822 non-null   int64\n",
      " 81  AZEILPL     5822 non-null   int64\n",
      " 82  APLEZIER    5822 non-null   int64\n",
      " 83  AFIETS      5822 non-null   int64\n",
      " 84  AINBOED     5822 non-null   int64\n",
      " 85  ABYSTAND    5822 non-null   int64\n",
      " 86  Purchase    5822 non-null   int64\n",
      "dtypes: int64(87)\n",
      "memory usage: 3.9 MB\n"
     ]
    }
   ],
   "source": [
    "data.info()"
   ]
  },
  {
   "cell_type": "code",
   "execution_count": 48,
   "metadata": {},
   "outputs": [],
   "source": [
    "X=data.iloc[:, 1:-1].values\n",
    "X\n",
    "X1=X"
   ]
  },
  {
   "cell_type": "code",
   "execution_count": 49,
   "metadata": {},
   "outputs": [
    {
     "data": {
      "text/plain": [
       "array([0, 0, 0, ..., 1, 0, 0])"
      ]
     },
     "execution_count": 49,
     "metadata": {},
     "output_type": "execute_result"
    }
   ],
   "source": [
    "y = data.iloc[:, -1].values\n",
    "y"
   ]
  },
  {
   "cell_type": "code",
   "execution_count": 50,
   "metadata": {},
   "outputs": [
    {
     "data": {
      "text/plain": [
       "StandardScaler()"
      ]
     },
     "execution_count": 50,
     "metadata": {},
     "output_type": "execute_result"
    }
   ],
   "source": [
    "from sklearn.preprocessing import StandardScaler\n",
    "scale = StandardScaler()\n",
    "scale.fit(X)"
   ]
  },
  {
   "cell_type": "code",
   "execution_count": 51,
   "metadata": {},
   "outputs": [],
   "source": [
    "from sklearn.model_selection import train_test_split\n",
    "X_train, X_test, y_train, y_test = train_test_split(X, y, test_size = 0.2, random_state=42)"
   ]
  },
  {
   "cell_type": "code",
   "execution_count": 63,
   "metadata": {},
   "outputs": [
    {
     "name": "stdout",
     "output_type": "stream",
     "text": [
      "Predictions: \n",
      " [0 0 0 ... 0 0 0]\n",
      "Actual values: \n",
      " [0 0 0 ... 1 0 0]\n",
      "Accuracy Score:  0.8824034334763948\n"
     ]
    }
   ],
   "source": [
    "knn = KNeighborsClassifier(n_neighbors=1)\n",
    "#knn = KNeighborsClassifier(n_neighbors=3)\n",
    "knn.fit(X_train, y_train)\n",
    "print(\"Predictions: \\n\", knn.predict(X_test))\n",
    "print(\"Actual values: \\n\", y_test )\n",
    "print(\"Accuracy Score: \", knn.score(X_test, y_test))"
   ]
  },
  {
   "cell_type": "code",
   "execution_count": 53,
   "metadata": {},
   "outputs": [
    {
     "data": {
      "image/png": "[encoded data removed]",
      "text/plain": [
       "<Figure size 432x288 with 2 Axes>"
      ]
     },
     "metadata": {
      "needs_background": "light"
     },
     "output_type": "display_data"
    }
   ],
   "source": [
    "from sklearn.metrics import (confusion_matrix, plot_confusion_matrix)\n",
    "plot_confusion_matrix(knn, X_test, y_test)  \n",
    "plt.show()"
   ]
  },
  {
   "cell_type": "markdown",
   "metadata": {},
   "source": [
    "## Logistical Regression:"
   ]
  },
  {
   "cell_type": "code",
   "execution_count": 54,
   "metadata": {},
   "outputs": [],
   "source": [
    "import statsmodels.api as sm\n",
    "import statsmodels.formula.api as smf"
   ]
  },
  {
   "cell_type": "code",
   "execution_count": 55,
   "metadata": {},
   "outputs": [],
   "source": [
    "X1_train, X1_test, y1_train, y1_test = train_test_split(X1, y, test_size = 0.2, random_state=42)\n"
   ]
  },
  {
   "cell_type": "code",
   "execution_count": 57,
   "metadata": {},
   "outputs": [],
   "source": [
    "lor = LogisticRegression()"
   ]
  },
  {
   "cell_type": "code",
   "execution_count": 58,
   "metadata": {},
   "outputs": [
    {
     "name": "stderr",
     "output_type": "stream",
     "text": [
      "/Users/shreya/opt/anaconda3/lib/python3.8/site-packages/sklearn/linear_model/_logistic.py:762: ConvergenceWarning: lbfgs failed to converge (status=1):\n",
      "STOP: TOTAL NO. of ITERATIONS REACHED LIMIT.\n",
      "\n",
      "Increase the number of iterations (max_iter) or scale the data as shown in:\n",
      "    https://scikit-learn.org/stable/modules/preprocessing.html\n",
      "Please also refer to the documentation for alternative solver options:\n",
      "    https://scikit-learn.org/stable/modules/linear_model.html#logistic-regression\n",
      "  n_iter_i = _check_optimize_result(\n"
     ]
    },
    {
     "data": {
      "text/plain": [
       "LogisticRegression()"
      ]
     },
     "execution_count": 58,
     "metadata": {},
     "output_type": "execute_result"
    }
   ],
   "source": [
    "lor.fit(X_train, y_train)"
   ]
  },
  {
   "cell_type": "code",
   "execution_count": 59,
   "metadata": {},
   "outputs": [
    {
     "name": "stdout",
     "output_type": "stream",
     "text": [
      "0.9296137339055794\n"
     ]
    }
   ],
   "source": [
    "y_cap=lor.predict(X_test)\n",
    "print(lor.score(X_test, y_test))"
   ]
  },
  {
   "cell_type": "code",
   "execution_count": 60,
   "metadata": {},
   "outputs": [
    {
     "data": {
      "image/png": "[encoded data removed]",
      "text/plain": [
       "<Figure size 432x288 with 2 Axes>"
      ]
     },
     "metadata": {
      "needs_background": "light"
     },
     "output_type": "display_data"
    }
   ],
   "source": [
    "plot_confusion_matrix( lor, X_test, y_test)  \n",
    "plt.show()"
   ]
  },
  {
   "cell_type": "code",
   "execution_count": null,
   "metadata": {},
   "outputs": [],
   "source": []
  }
 ],
 "metadata": {
  "kernelspec": {
   "display_name": "Python 3",
   "language": "python",
   "name": "python3"
  },
  "language_info": {
   "codemirror_mode": {
    "name": "ipython",
    "version": 3
   },
   "file_extension": ".py",
   "mimetype": "text/x-python",
   "name": "python",
   "nbconvert_exporter": "python",
   "pygments_lexer": "ipython3",
   "version": "3.8.5"
  }
 },
 "nbformat": 4,
 "nbformat_minor": 4
}
